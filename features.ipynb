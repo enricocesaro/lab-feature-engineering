{
 "cells": [
  {
   "cell_type": "code",
   "execution_count": null,
   "source": [],
   "outputs": [],
   "metadata": {}
  },
  {
   "cell_type": "code",
   "execution_count": null,
   "source": [
    "data = pd.read_csv('learningSet.csv')\n"
   ],
   "outputs": [],
   "metadata": {}
  },
  {
   "cell_type": "code",
   "execution_count": null,
   "source": [
    "data.head()"
   ],
   "outputs": [],
   "metadata": {}
  },
  {
   "cell_type": "code",
   "execution_count": null,
   "source": [
    "#Check for Null values in the numericals \n",
    "numericals = data.select_dtypes(include = np.number)\n",
    "numericals.isna().sum()"
   ],
   "outputs": [],
   "metadata": {}
  },
  {
   "cell_type": "code",
   "execution_count": null,
   "source": [
    "nulls_num_df = pd.DataFrame(numericals.isna().sum()/len(numericals)).reset_index()\n",
    "nulls_num_df.columns = ['column_name', 'nulls_percentage']\n",
    "nulls_num_df[nulls_num_df['nulls_percentage']!= 0]"
   ],
   "outputs": [],
   "metadata": {}
  },
  {
   "cell_type": "code",
   "execution_count": null,
   "source": [
    "# deleting all rows with more than 25% of NaN values\n",
    "perc = 25.0\n",
    "min_count =  int(((100-perc)/100)*data.shape[0] + 1)\n",
    "data = data.dropna( axis=1, thresh=min_count)\n",
    "data.shape"
   ],
   "outputs": [],
   "metadata": {}
  },
  {
   "cell_type": "code",
   "execution_count": null,
   "source": [
    "\n",
    "# Clean the columns GEOCODE2, WEALTH1, ADI, DMA,and MSA\n",
    "# GEOCODE2\n",
    "data['GEOCODE2'].value_counts()\n",
    "def clean_geocode(x):\n",
    "    if x == ' ':\n",
    "        return 'A'\n",
    "    else:\n",
    "        return x\n",
    "\n",
    "data['GEOCODE2'] = data['GEOCODE2'].apply(clean_geocode)\n",
    "\n",
    "data['GEOCODE2'] = data['GEOCODE2'].fillna('A')\n",
    "\n",
    "data['GEOCODE2'].value_counts(dropna=False)"
   ],
   "outputs": [],
   "metadata": {}
  },
  {
   "cell_type": "code",
   "execution_count": null,
   "source": [
    "#WEALTH1\n",
    "data['WEALTH1'].value_counts(dropna=False)"
   ],
   "outputs": [],
   "metadata": {}
  },
  {
   "cell_type": "code",
   "execution_count": null,
   "source": [
    "print(data['ADI'].isna().sum())    #PROBABLly the null values are in the same rows\n",
    "print(data['DMA'].isna().sum())\n",
    "print(data['MSA'].isna().sum())"
   ],
   "outputs": [],
   "metadata": {}
  },
  {
   "cell_type": "code",
   "execution_count": null,
   "source": [
    "data = data[data['ADI'].isna()==False]"
   ],
   "outputs": [],
   "metadata": {}
  },
  {
   "cell_type": "code",
   "execution_count": null,
   "source": [
    "print(data['ADI'].isna().sum())      # as thought they wrere in the same rows \n",
    "print(data['DMA'].isna().sum())\n",
    "print(data['MSA'].isna().sum())"
   ],
   "outputs": [],
   "metadata": {}
  }
 ],
 "metadata": {
  "orig_nbformat": 4,
  "language_info": {
   "name": "python",
   "version": "3.7.6",
   "mimetype": "text/x-python",
   "codemirror_mode": {
    "name": "ipython",
    "version": 3
   },
   "pygments_lexer": "ipython3",
   "nbconvert_exporter": "python",
   "file_extension": ".py"
  },
  "kernelspec": {
   "name": "python3",
   "display_name": "Python 3.7.6 64-bit ('base': conda)"
  },
  "interpreter": {
   "hash": "dca0ade3e726a953b501b15e8e990130d2b7799f14cfd9f4271676035ebe5511"
  }
 },
 "nbformat": 4,
 "nbformat_minor": 2
}